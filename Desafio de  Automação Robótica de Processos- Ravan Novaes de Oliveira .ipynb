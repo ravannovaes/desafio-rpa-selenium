{
 "cells": [
  {
   "cell_type": "markdown",
   "metadata": {},
   "source": [
    "## Processo Seletivo BWA Global\n",
    "### Desafio de  Automação Robótica de Processos (RPA)\n",
    "#### Coordenador Técnico: Elder Santos     Candidato : Ravan Novaes de Oliveira  Data: 05/01/2022\n"
   ]
  },
  {
   "cell_type": "markdown",
   "metadata": {},
   "source": [
    "O desafio pode ser encontrado na pagina [rpachallenge]( https://www.rpachallenge.com/), e tem como o objetivo de preencher um formulário online utilizando **RPA** com a linguagem Python, e o framework **Selenium**, com auxílio também da biblioteca **pandas** para a leitura e manipulação dos dados. "
   ]
  },
  {
   "cell_type": "markdown",
   "metadata": {},
   "source": [
    "### Preparação do ambiente "
   ]
  },
  {
   "cell_type": "markdown",
   "metadata": {},
   "source": [
    "Utilize o comando abaixo para instalar o Selenium no anaconda, em seu terminal linux digite:\n",
    "\n",
    "> conda install -c conda-forge selenium\n",
    "\n",
    "Para utilizar o webdriver deve ser feito o download do [chromedriver](pagina:https://chromedriver.chromium.org/downloads), de acordo com a versão do chrome, e colocar o arquivo extraído na pasta bin do anaconda:\n",
    "\n",
    "> anaconda3/bin/chromedriver\n"
   ]
  },
  {
   "cell_type": "markdown",
   "metadata": {},
   "source": [
    "### Projeto "
   ]
  },
  {
   "cell_type": "markdown",
   "metadata": {},
   "source": [
    "**Passo1:** Importação da biblioteca pandas, e do webdriver do Selenium:\n"
   ]
  },
  {
   "cell_type": "code",
   "execution_count": 7,
   "metadata": {
    "collapsed": true
   },
   "outputs": [],
   "source": [
    "import pandas as pd \n",
    "from selenium import webdriver"
   ]
  },
  {
   "cell_type": "markdown",
   "metadata": {},
   "source": [
    "**Passo2**: Leitura do arquivo *challenge.xlsx*, utlizado no exemplo e visualização dos dados com a biblioteca pandas, como mostrado abaixo:"
   ]
  },
  {
   "cell_type": "code",
   "execution_count": 8,
   "metadata": {},
   "outputs": [
    {
     "data": {
      "text/html": [
       "<div>\n",
       "<style>\n",
       "    .dataframe thead tr:only-child th {\n",
       "        text-align: right;\n",
       "    }\n",
       "\n",
       "    .dataframe thead th {\n",
       "        text-align: left;\n",
       "    }\n",
       "\n",
       "    .dataframe tbody tr th {\n",
       "        vertical-align: top;\n",
       "    }\n",
       "</style>\n",
       "<table border=\"1\" class=\"dataframe\">\n",
       "  <thead>\n",
       "    <tr style=\"text-align: right;\">\n",
       "      <th></th>\n",
       "      <th>First Name</th>\n",
       "      <th>Last Name</th>\n",
       "      <th>Company Name</th>\n",
       "      <th>Role in Company</th>\n",
       "      <th>Address</th>\n",
       "      <th>Email</th>\n",
       "      <th>Phone Number</th>\n",
       "    </tr>\n",
       "  </thead>\n",
       "  <tbody>\n",
       "    <tr>\n",
       "      <th>0</th>\n",
       "      <td>John</td>\n",
       "      <td>Smith</td>\n",
       "      <td>IT Solutions</td>\n",
       "      <td>Analyst</td>\n",
       "      <td>98 North Road</td>\n",
       "      <td>jsmith@itsolutions.co.uk</td>\n",
       "      <td>40716543298</td>\n",
       "    </tr>\n",
       "    <tr>\n",
       "      <th>1</th>\n",
       "      <td>Jane</td>\n",
       "      <td>Dorsey</td>\n",
       "      <td>MediCare</td>\n",
       "      <td>Medical Engineer</td>\n",
       "      <td>11 Crown Street</td>\n",
       "      <td>jdorsey@mc.com</td>\n",
       "      <td>40791345621</td>\n",
       "    </tr>\n",
       "    <tr>\n",
       "      <th>2</th>\n",
       "      <td>Albert</td>\n",
       "      <td>Kipling</td>\n",
       "      <td>Waterfront</td>\n",
       "      <td>Accountant</td>\n",
       "      <td>22 Guild Street</td>\n",
       "      <td>kipling@waterfront.com</td>\n",
       "      <td>40735416854</td>\n",
       "    </tr>\n",
       "    <tr>\n",
       "      <th>3</th>\n",
       "      <td>Michael</td>\n",
       "      <td>Robertson</td>\n",
       "      <td>MediCare</td>\n",
       "      <td>IT Specialist</td>\n",
       "      <td>17 Farburn Terrace</td>\n",
       "      <td>mrobertson@mc.com</td>\n",
       "      <td>40733652145</td>\n",
       "    </tr>\n",
       "    <tr>\n",
       "      <th>4</th>\n",
       "      <td>Doug</td>\n",
       "      <td>Derrick</td>\n",
       "      <td>Timepath Inc.</td>\n",
       "      <td>Analyst</td>\n",
       "      <td>99 Shire Oak Road</td>\n",
       "      <td>dderrick@timepath.co.uk</td>\n",
       "      <td>40799885412</td>\n",
       "    </tr>\n",
       "    <tr>\n",
       "      <th>5</th>\n",
       "      <td>Jessie</td>\n",
       "      <td>Marlowe</td>\n",
       "      <td>Aperture Inc.</td>\n",
       "      <td>Scientist</td>\n",
       "      <td>27 Cheshire Street</td>\n",
       "      <td>jmarlowe@aperture.us</td>\n",
       "      <td>40733154268</td>\n",
       "    </tr>\n",
       "    <tr>\n",
       "      <th>6</th>\n",
       "      <td>Stan</td>\n",
       "      <td>Hamm</td>\n",
       "      <td>Sugarwell</td>\n",
       "      <td>Advisor</td>\n",
       "      <td>10 Dam Road</td>\n",
       "      <td>shamm@sugarwell.org</td>\n",
       "      <td>40712462257</td>\n",
       "    </tr>\n",
       "    <tr>\n",
       "      <th>7</th>\n",
       "      <td>Michelle</td>\n",
       "      <td>Norton</td>\n",
       "      <td>Aperture Inc.</td>\n",
       "      <td>Scientist</td>\n",
       "      <td>13 White Rabbit Street</td>\n",
       "      <td>mnorton@aperture.us</td>\n",
       "      <td>40731254562</td>\n",
       "    </tr>\n",
       "    <tr>\n",
       "      <th>8</th>\n",
       "      <td>Stacy</td>\n",
       "      <td>Shelby</td>\n",
       "      <td>TechDev</td>\n",
       "      <td>HR Manager</td>\n",
       "      <td>19 Pineapple Boulevard</td>\n",
       "      <td>sshelby@techdev.com</td>\n",
       "      <td>40741785214</td>\n",
       "    </tr>\n",
       "    <tr>\n",
       "      <th>9</th>\n",
       "      <td>Lara</td>\n",
       "      <td>Palmer</td>\n",
       "      <td>Timepath Inc.</td>\n",
       "      <td>Programmer</td>\n",
       "      <td>87 Orange Street</td>\n",
       "      <td>lpalmer@timepath.co.uk</td>\n",
       "      <td>40731653845</td>\n",
       "    </tr>\n",
       "  </tbody>\n",
       "</table>\n",
       "</div>"
      ],
      "text/plain": [
       "  First Name Last Name    Company Name   Role in Company  \\\n",
       "0       John      Smith   IT Solutions           Analyst   \n",
       "1       Jane     Dorsey       MediCare  Medical Engineer   \n",
       "2     Albert    Kipling     Waterfront        Accountant   \n",
       "3    Michael  Robertson       MediCare     IT Specialist   \n",
       "4       Doug    Derrick  Timepath Inc.           Analyst   \n",
       "5     Jessie    Marlowe  Aperture Inc.         Scientist   \n",
       "6       Stan       Hamm      Sugarwell           Advisor   \n",
       "7   Michelle     Norton  Aperture Inc.         Scientist   \n",
       "8      Stacy     Shelby        TechDev        HR Manager   \n",
       "9       Lara     Palmer  Timepath Inc.        Programmer   \n",
       "\n",
       "                  Address                     Email  Phone Number  \n",
       "0           98 North Road  jsmith@itsolutions.co.uk   40716543298  \n",
       "1         11 Crown Street            jdorsey@mc.com   40791345621  \n",
       "2         22 Guild Street    kipling@waterfront.com   40735416854  \n",
       "3      17 Farburn Terrace         mrobertson@mc.com   40733652145  \n",
       "4       99 Shire Oak Road   dderrick@timepath.co.uk   40799885412  \n",
       "5      27 Cheshire Street      jmarlowe@aperture.us   40733154268  \n",
       "6             10 Dam Road       shamm@sugarwell.org   40712462257  \n",
       "7  13 White Rabbit Street       mnorton@aperture.us   40731254562  \n",
       "8  19 Pineapple Boulevard       sshelby@techdev.com   40741785214  \n",
       "9        87 Orange Street    lpalmer@timepath.co.uk   40731653845  "
      ]
     },
     "metadata": {},
     "output_type": "display_data"
    }
   ],
   "source": [
    "tabela = pd.read_excel(\"challenge.xlsx\")\n",
    "display(tabela)"
   ]
  },
  {
   "cell_type": "markdown",
   "metadata": {},
   "source": [
    "Esse trecho foi usado para melhor observar as colunas, foi visto que o campo Last Name apresenta um espaço ao final do seu nome, o que poderia resultar algum problema de manipulação, poderia ser feita uma mudança no nome da coluna se necessário."
   ]
  },
  {
   "cell_type": "code",
   "execution_count": 3,
   "metadata": {},
   "outputs": [
    {
     "data": {
      "text/plain": [
       "Index(['First Name', 'Last Name ', 'Company Name', 'Role in Company',\n",
       "       'Address', 'Email', 'Phone Number'],\n",
       "      dtype='object')"
      ]
     },
     "execution_count": 3,
     "metadata": {},
     "output_type": "execute_result"
    }
   ],
   "source": [
    "#Analisando as colunas\n",
    "tabela.columns"
   ]
  },
  {
   "cell_type": "markdown",
   "metadata": {},
   "source": [
    "**Passo 4**: Abertura do site do desafio pelo navagador e inicio da solução problema:\n"
   ]
  },
  {
   "cell_type": "code",
   "execution_count": 22,
   "metadata": {
    "collapsed": true
   },
   "outputs": [],
   "source": [
    "#Site aberto pelo navegador Chrome utilizando o webdriver e a função get .\n",
    "navegador = webdriver.Chrome()\n",
    "navegador.get(\"https://www.rpachallenge.com/\")"
   ]
  },
  {
   "cell_type": "markdown",
   "metadata": {},
   "source": [
    "![site_challenge](./FIGS_RPA/siteRPA-Challenge.png)\n",
    "     \n",
    "     Figura 1 - Site rpachallenge. \n",
    "\n",
    "A partir daí podemos iniciar a resolução do problema, o Selenium acessa aos elementos de uma página através de alguma identificação, o objetivo é encontrar um método que melhor se encaixa ao problema, o primeiro que tive contato foi *XPath*, ao inspecionar o navegador podemos encontrar essa identificação para os campos.\n",
    "\n",
    "Porém no desafio foi observado que ao usar esse método, ele mudava a cada atualização dos campos da página, com isso foi preciso utilizar um método de identificação que não mudasse durante a atualização dos campos, isso foi feito identificando o elemento *ng-reflect-name* seguido do label do campo, já esse sempre permanecia o mesmo, e foi utilizado a sua identificação por *Seletores CSS*.  \n",
    "\n",
    "Sendo assim foi identificado todos os campos da página para codificação e execução do desafio.\n",
    "\n",
    "![site_challenge](./FIGS_RPA/labelEmail.png)\n",
    "     \n",
    "     Figura 2 - Inspeção de Elementos. \n",
    "     \n"
   ]
  },
  {
   "cell_type": "markdown",
   "metadata": {},
   "source": [
    "**Passo 5**: O Script utilizado pode ser visto abaixo, usando um laço *for* e o *index* da tabela, com o método *iloc* do pandas é possivel acessar dados da linha de cada coluna a cada iteração, guardar em uma variável e utilizar para escrever na página com o método *send_keys* do campo identificado com o *Seletor CSS*: *find_element_by_css_selector*."
   ]
  },
  {
   "cell_type": "code",
   "execution_count": 26,
   "metadata": {
    "collapsed": true
   },
   "outputs": [],
   "source": [
    "\n",
    "for indice in tabela.index:\n",
    "    first_name = tabela.iloc[indice,0]\n",
    "    last_name = tabela.iloc[indice, 1]\n",
    "    company_name= tabela.iloc[indice, 2]\n",
    "    rolo_in_company = tabela.iloc[indice, 3]\n",
    "    andress = tabela.iloc[indice, 4]\n",
    "    email = tabela.iloc[indice, 5]\n",
    "    phone_number = tabela.iloc[indice, 6]\n",
    "    \n",
    "    navegador.find_element_by_css_selector(\"input[ng-reflect-name='labelFirstName']\").send_keys(first_name)\n",
    "    navegador.find_element_by_css_selector(\"input[ng-reflect-name='labelLastName']\").send_keys(last_name)\n",
    "    navegador.find_element_by_css_selector(\"input[ng-reflect-name='labelCompanyName']\").send_keys(company_name)\n",
    "    navegador.find_element_by_css_selector(\"input[ng-reflect-name='labelRole']\").send_keys(rolo_in_company)\n",
    "    navegador.find_element_by_css_selector(\"input[ng-reflect-name='labelAddress']\").send_keys(str(andress))\n",
    "    navegador.find_element_by_css_selector(\"input[ng-reflect-name='labelPhone']\").send_keys(str(phone_number))\n",
    "    navegador.find_element_by_css_selector(\"input[ng-reflect-name='labelEmail']\").send_keys(email)\n",
    "    navegador.find_element_by_css_selector(\"input[class='btn uiColorButton']\").click()"
   ]
  },
  {
   "cell_type": "markdown",
   "metadata": {},
   "source": [
    "### Conclusão "
   ]
  },
  {
   "cell_type": "markdown",
   "metadata": {},
   "source": [
    "É possível ver a execução do script nas imagens abaixo, o que que mostra que ele antendeu ao proposito de solucionar o desafio."
   ]
  },
  {
   "cell_type": "markdown",
   "metadata": {},
   "source": [
    "![site_challenge](./FIGS_RPA/rpachallenge-dados.png)\n",
    "\n",
    "     Figura 3 - RPA preenchendo os dados na página. \n",
    "\n",
    "![site_challenge](./FIGS_RPA/rpachallenge-tela-final.png)\n",
    "\n",
    "     Figura 4 - Tela Final do desafio. \n",
    "\n"
   ]
  }
 ],
 "metadata": {
  "kernelspec": {
   "display_name": "Python 3",
   "language": "python",
   "name": "python3"
  },
  "language_info": {
   "codemirror_mode": {
    "name": "ipython",
    "version": 3
   },
   "file_extension": ".py",
   "mimetype": "text/x-python",
   "name": "python",
   "nbconvert_exporter": "python",
   "pygments_lexer": "ipython3",
   "version": "3.6.2"
  }
 },
 "nbformat": 4,
 "nbformat_minor": 2
}
